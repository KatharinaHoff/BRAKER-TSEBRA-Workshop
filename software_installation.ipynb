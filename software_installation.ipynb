{
 "cells": [
  {
   "cell_type": "markdown",
   "metadata": {},
   "source": [
    "# BRAKER & TSEBRA Workshop\n",
    "\n",
    "All software required for this workshop is available via the RESPONSE image in the AppHub. This notebook serves merely as documentation in case you ever have to install the required software in a different unix system without root permissions. Note that the RESPONSE image also contains some software for genome assembly that you might not need for genome annotation.\n",
    "\n",
    "## Software installation\n",
    "\n",
    "This installation builds on top of the DataScience+TF image at University of Greifswald.\n",
    "\n",
    "I first installed my own conda, in terminal, interactive session:\n",
    "\n",
    "```\n",
    "echo \"Installing my own conda because I can't install software with the pre-installed conda...\"\n",
    "wget https://repo.anaconda.com/archive/Anaconda3-2022.05-Linux-x86_64.sh &> /dev/null\n",
    "bash Anaconda3-2022.05-Linux-x86_64.sh\n",
    "```"
   ]
  },
  {
   "cell_type": "code",
   "execution_count": 1,
   "metadata": {},
   "outputs": [
    {
     "name": "stdout",
     "output_type": "stream",
     "text": [
      "Installing zlib (depedency of flye assembler)...\n",
      "Done.\n"
     ]
    }
   ],
   "source": [
    "%%script bash\n",
    "# ~10 seconds\n",
    "echo \"Installing zlib (depedency of flye assembler)...\"\n",
    "source ${HOME}/.bashrc\n",
    "wget https://zlib.net/zlib-1.2.12.tar.gz &> /dev/null\n",
    "tar -zxf zlib-1.2.12.tar.gz &> /dev/null\n",
    "rm zlib-1.2.12.tar.gz\n",
    "cd zlib-1.2.12\n",
    "./configure --prefix=${HOME}/RESPONSE2022/zlib-1.2.12/build &> /dev/null\n",
    "make &> /dev/null\n",
    "echo \"export LD_LIBRARY_PATH=\\$LD_LIBRARY_PATH:${HOME}/RESPONSE2022/zlib-1.2.12/build/lib\" >> ${HOME}/.bashrc\n",
    "echo \"Done.\""
   ]
  },
  {
   "cell_type": "code",
   "execution_count": 2,
   "metadata": {},
   "outputs": [
    {
     "name": "stdout",
     "output_type": "stream",
     "text": [
      "Installing flye (long read assembly tool)...\n",
      "/home/jovyan/RESPONSE/Flye/bin/flye\n"
     ]
    }
   ],
   "source": [
    "%%script bash\n",
    "# ~2:11 minues\n",
    "echo \"Installing flye (long read assembly tool)...\"\n",
    "source ${HOME}/.bashrc\n",
    "git clone https://github.com/fenderglass/Flye &> /dev/null\n",
    "cd Flye\n",
    "make &> /dev/null\n",
    "export PATH=${PATH}:${HOME}/RESPONSE2022/Flye/bin\n",
    "echo \"export PATH=\\$PATH:${HOME}/RESPONSE2022/Flye/bin\" >> ${HOME}/.bashrc\n",
    "source ${HOME}/.bashrc\n",
    "which flye"
   ]
  },
  {
   "cell_type": "markdown",
   "metadata": {},
   "source": [
    "### Installing busco (for assessing assemblies and predicted genes)... - I did this in interactive mode in a terminal\n",
    "\n",
    "```\n",
    "conda create -n busco_env -c conda-forge -c bioconda busco=5.4.2\n",
    "# To activate this environment, use\n",
    "#\n",
    "#     $ conda activate busco_env\n",
    "#\n",
    "# To deactivate an active environment, use\n",
    "#\n",
    "#     $ conda deactivate\n",
    "```\n",
    "confirmed that busco works fine if kept in a separate channel, otherwise interference with BRAKER/augustus"
   ]
  },
  {
   "cell_type": "code",
   "execution_count": 3,
   "metadata": {},
   "outputs": [
    {
     "name": "stdout",
     "output_type": "stream",
     "text": [
      "Installing blobtools (for assessing assemblies)...\n",
      "/home/jovyan/anaconda3/bin/blobtools\n"
     ]
    }
   ],
   "source": [
    "%%script bash\n",
    "echo \"Installing blobtools (for assessing assemblies)...\"\n",
    "source ${HOME}/.bashrc\n",
    "conda install -y -c bioconda blobtools &> /dev/null\n",
    "conda activate\n",
    "which blobtools"
   ]
  },
  {
   "cell_type": "code",
   "execution_count": 5,
   "metadata": {},
   "outputs": [
    {
     "name": "stdout",
     "output_type": "stream",
     "text": [
      "Installing seqstats (for assessing assemblies)...\n",
      "/home/jovyan/RESPONSE/seqstats/seqstats\n"
     ]
    }
   ],
   "source": [
    "%%script bash\n",
    "echo \"Installing seqstats (for assessing assemblies)...\"\n",
    "git clone --recursive https://github.com/clwgg/seqstats &> /dev/null\n",
    "cd seqstats\n",
    "make &> /dev/null\n",
    "echo \"export PATH=\\$PATH:${HOME}/RESPONSE2022/seqstats\" >> ${HOME}/.bashrc\n",
    "source ~/.bashrc\n",
    "which seqstats"
   ]
  },
  {
   "cell_type": "code",
   "execution_count": 6,
   "metadata": {},
   "outputs": [
    {
     "name": "stdout",
     "output_type": "stream",
     "text": [
      "Installing minimap2 (long read mapping tool)...\n",
      "/home/jovyan/RESPONSE/minimap2/minimap2\n"
     ]
    }
   ],
   "source": [
    "%%script bash\n",
    "# ~12 seconds\n",
    "echo \"Installing minimap2 (long read mapping tool)...\"\n",
    "source ${HOME}/.bashrc\n",
    "git clone https://github.com/lh3/minimap2 &> /dev/null\n",
    "cd minimap2\n",
    "make &> /dev/null\n",
    "echo \"export PATH=\\$PATH:${HOME}/RESPONSE2022/minimap2\" >> ${HOME}/.bashrc\n",
    "source ${HOME}/.bashrc\n",
    "which minimap2"
   ]
  },
  {
   "cell_type": "code",
   "execution_count": 7,
   "metadata": {},
   "outputs": [
    {
     "name": "stdout",
     "output_type": "stream",
     "text": [
      "Installing cdbfasta (fast entry access tools)...\n",
      "/home/jovyan/RESPONSE/cdbfasta/cdbfasta\n",
      "/home/jovyan/RESPONSE/cdbfasta/cdbyank\n"
     ]
    }
   ],
   "source": [
    "%%script bash\n",
    "# 8 seconds\n",
    "echo \"Installing cdbfasta (fast entry access tools)...\"\n",
    "source ${HOME}/.bashrc\n",
    "git clone https://github.com/gpertea/cdbfasta.git &> /dev/null\n",
    "cd cdbfasta\n",
    "make &> /dev/null\n",
    "echo \"export PATH=\\$PATH:${HOME}/RESPONSE2022/cdbfasta\" >> ${HOME}/.bashrc\n",
    "source ${HOME}/.bashrc\n",
    "which cdbfasta\n",
    "which cdbyank"
   ]
  },
  {
   "cell_type": "code",
   "execution_count": 8,
   "metadata": {},
   "outputs": [
    {
     "name": "stdout",
     "output_type": "stream",
     "text": [
      "Installing hisat2 (for RNA-Seq alignment)...\n",
      "/home/jovyan/RESPONSE/hisat2/hisat2\n",
      "/home/jovyan/RESPONSE/hisat2/hisat2-build\n"
     ]
    }
   ],
   "source": [
    "%%script bash\n",
    "echo \"Installing hisat2 (for RNA-Seq alignment)...\"\n",
    "source ${HOME}/.bashrc\n",
    "# takes a long time to compile, I took a walk\n",
    "git clone https://github.com/DaehwanKimLab/hisat2.git &> /dev/null\n",
    "make &> /dev/null\n",
    "echo \"export PATH=\\$PATH:${HOME}/RESPONSE2022/hisat2\" >> ${HOME}/.bashrc\n",
    "source ${HOME}/.bashrc\n",
    "which hisat2\n",
    "which hisat2-build"
   ]
  },
  {
   "cell_type": "code",
   "execution_count": 9,
   "metadata": {},
   "outputs": [
    {
     "name": "stdout",
     "output_type": "stream",
     "text": [
      "Installing m4 (dependency of autoconf)...\n",
      "Done.\n"
     ]
    }
   ],
   "source": [
    "%%script bash\n",
    "# ~1:43 minutes\n",
    "echo \"Installing m4 (dependency of autoconf)...\"\n",
    "source ${HOME}/.bashrc\n",
    "wget http://ftp.gnu.org/gnu/m4/m4-1.4.19.tar.gz &> /dev/null\n",
    "tar -xf m4-1.4.19.tar.gz\n",
    "rm m4-1.4.19.tar.gz\n",
    "cd m4-1.4.19\n",
    "./configure --prefix=${HOME}/RESPONSE2022/m4-1.4.19/ &> /dev/null\n",
    "make &> /dev/null\n",
    "make install &> /dev/null\n",
    "echo \"export PATH=\\$PATH:${HOME}/RESPONSE2022/m4-1.4.19/bin\" >> ${HOME}/.bashrc\n",
    "echo \"export M4=/home/jovyan/RESPONSE2022/m4-1.4.19/bin/m4\" >> ${HOME}/.bashrc\n",
    "source ${HOME}/.bashrc\n",
    "echo \"Done.\""
   ]
  },
  {
   "cell_type": "code",
   "execution_count": 10,
   "metadata": {},
   "outputs": [
    {
     "name": "stdout",
     "output_type": "stream",
     "text": [
      "Installing autoconf (dependency of htslib)...\n",
      "/home/jovyan/RESPONSE/autoconf-2.69e/bin/bin/autoconf\n"
     ]
    }
   ],
   "source": [
    "%%script bash\n",
    "# ~18 seconds\n",
    "echo \"Installing autoconf (dependency of htslib)...\"\n",
    "source ${HOME}/.bashrc\n",
    "wget https://alpha.gnu.org/pub/gnu/autoconf/autoconf-2.69e.tar.gz &> /dev/null\n",
    "tar -xf autoconf-2.69e.tar.gz\n",
    "rm autoconf-2.69e.tar.gz\n",
    "cd autoconf-2.69e\n",
    "./configure --prefix=${HOME}/RESPONSE2022/autoconf-2.69e/bin &> /dev/null\n",
    "make &> /dev/null\n",
    "make install &> /dev/null\n",
    "echo \"export PATH=\\$PATH:${HOME}/RESPONSE2022/autoconf-2.69e/bin/bin\" >> ${HOME}/.bashrc\n",
    "source ${HOME}/.bashrc\n",
    "which autoconf"
   ]
  },
  {
   "cell_type": "code",
   "execution_count": 11,
   "metadata": {},
   "outputs": [
    {
     "name": "stdout",
     "output_type": "stream",
     "text": [
      "Installing automake (dependency of htslib)...\n",
      "/home/jovyan/RESPONSE/automake-1.16.5/bin/bin/bin/automake\n"
     ]
    }
   ],
   "source": [
    "%%script bash\n",
    "# ~12 seconds\n",
    "echo \"Installing automake (dependency of htslib)...\"\n",
    "source ${HOME}/.bashrc\n",
    "wget https://ftp.gnu.org/gnu/automake/automake-1.16.5.tar.gz &> /dev/null\n",
    "tar -xf automake-1.16.5.tar.gz\n",
    "rm automake-1.16.5.tar.gz\n",
    "cd automake-1.16.5\n",
    "./configure --prefix=${HOME}/RESPONSE2022/automake-1.16.5/bin/bin &> /dev/null\n",
    "make &> /dev/null\n",
    "make install &> /dev/null\n",
    "echo \"export PATH=\\$PATH:${HOME}/RESPONSE2022/automake-1.16.5/bin/bin/bin\" >> ${HOME}/.bashrc\n",
    "source ${HOME}/.bashrc\n",
    "which automake"
   ]
  },
  {
   "cell_type": "code",
   "execution_count": 12,
   "metadata": {},
   "outputs": [
    {
     "name": "stdout",
     "output_type": "stream",
     "text": [
      "Installing meson (dependency of htslib)...\n",
      "/home/jovyan/.local/bin/meson\n"
     ]
    }
   ],
   "source": [
    "%%script bash\n",
    "echo \"Installing meson (dependency of htslib)...\"\n",
    "source ${HOME}/.bashrc\n",
    "pip3 install --user meson &> /dev/null\n",
    "echo \"export PATH=\\$PATH:${HOME}/.local/bin\" >> ${HOME}/.bashrc\n",
    "source ${HOME}/.bashrc\n",
    "which meson"
   ]
  },
  {
   "cell_type": "code",
   "execution_count": 13,
   "metadata": {},
   "outputs": [
    {
     "name": "stdout",
     "output_type": "stream",
     "text": [
      "Installing ninja (dependency of htslib)...\n",
      "/home/jovyan/RESPONSE/ninja/ninja\n"
     ]
    }
   ],
   "source": [
    "%%script bash\n",
    "# 37 seconds\n",
    "echo \"Installing ninja (dependency of htslib)...\"\n",
    "source ${HOME}/.bashrc\n",
    "git clone https://github.com/ninja-build/ninja.git &> /dev/null\n",
    "cd ninja\n",
    "./configure.py --bootstrap &> /dev/null\n",
    "echo \"export PATH=\\$PATH:${HOME}/RESPONSE2022/ninja\" >> ${HOME}/.bashrc\n",
    "source ${HOME}/.bashrc\n",
    "which ninja"
   ]
  },
  {
   "cell_type": "code",
   "execution_count": 14,
   "metadata": {},
   "outputs": [
    {
     "name": "stdout",
     "output_type": "stream",
     "text": [
      "Installing bzip2 (dependency of htslib)...\n",
      "/home/jovyan/RESPONSE/bzip2/bin/bin/bzip2\n"
     ]
    }
   ],
   "source": [
    "%%script bash\n",
    "# ~6 seconds\n",
    "echo \"Installing bzip2 (dependency of htslib)...\"\n",
    "source ${HOME}/.bashrc\n",
    "git clone https://github.com/libarchive/bzip2.git &> /dev/null\n",
    "cd bzip2\n",
    "meson --prefix ${HOME}/RESPONSE2022/bzip2/bin ${HOME}/RESPONSE2022/bzip2/builddir  &> /dev/null\n",
    "ninja -C ${HOME}/RESPONSE2022/bzip2/builddir  &> /dev/null\n",
    "ninja -C ${HOME}/RESPONSE2022/bzip2/builddir install  &> /dev/null\n",
    "echo \"export PATH=${HOME}/RESPONSE2022/bzip2/bin/bin:\\$PATH\" >> ${HOME}/.bashrc\n",
    "echo \"export LD_LIBRARY_PATH=\\$LD_LIBRARY_PATH:${HOME}/RESPONSE2022/bzip2/bin/lib/x86_64-linux-gnu\" >> ${HOME}/.bashrc\n",
    "echo \"export LIBRARY_PATH=\\$LIBRARY_PATH:${HOME}/RESPONSE2022/bzip2/bin/lib/x86_64-linux-gnu\" >> ${HOME}/.bashrc\n",
    "echo \"export CPATH=\\$CPATH:${HOME}/RESPONSE2022/bzip2/bin/include\" >> ${HOME}/.bashrc\n",
    "source ${HOME}/.bashrc\n",
    "which bzip2"
   ]
  },
  {
   "cell_type": "code",
   "execution_count": 15,
   "metadata": {},
   "outputs": [
    {
     "name": "stdout",
     "output_type": "stream",
     "text": [
      "Installing htslib (dependency of samtools)...\n",
      "/home/jovyan/anaconda3/bin/tabix\n"
     ]
    }
   ],
   "source": [
    "%%script bash\n",
    "# 1:30 minutes\n",
    "echo \"Installing htslib (dependency of samtools)...\"\n",
    "source ${HOME}/.bashrc\n",
    "git clone https://github.com/samtools/htslib.git &> /dev/null\n",
    "cd htslib\n",
    "git submodule update --init --recursive &> /dev/null\n",
    "autoreconf -i\n",
    "./configure --prefix=${HOME}/RESPONSE2022/htslib/bin &> /dev/null\n",
    "make &> /dev/null\n",
    "make install &> /dev/null\n",
    "echo \"export LD_LIBRARY_PATH=\\$LD_LIBRARY_PATH:${HOME}/RESPONSE2022/htslib/bin/lib\" >> ${HOME}/.bashrc\n",
    "echo \"export LIBRARY_PATH=\\$LIBRARY_PATH:${HOME}/RESPONSE2022/htslib/bin/lib\" >> ${HOME}/.bashrc\n",
    "echo \"export CPATH=\\$CPATH:${HOME}/RESPONSE2022/htslib/bin/include/htslib\" >> ${HOME}/.bashrc\n",
    "echo \"export PATH=\\$PATH:${HOME}/RESPONSE2022/htslib/bin/bin\" >> ${HOME}/.bashrc\n",
    "source ${HOME}/.bashrc\n",
    "which tabix"
   ]
  },
  {
   "cell_type": "code",
   "execution_count": 16,
   "metadata": {},
   "outputs": [
    {
     "name": "stdout",
     "output_type": "stream",
     "text": [
      "Installing ncurses (dependency of samtools)...\n",
      "Done.\n"
     ]
    }
   ],
   "source": [
    "%%script bash\n",
    "# 2:15 minutes\n",
    "echo \"Installing ncurses (dependency of samtools)...\"\n",
    "source ${HOME}/.bashrc\n",
    "wget https://ftp.gnu.org/pub/gnu/ncurses/ncurses-6.3.tar.gz &> /dev/null\n",
    "tar -xf ncurses-6.3.tar.gz\n",
    "rm ncurses-6.3.tar.gz\n",
    "cd ncurses-6.3\n",
    "./configure --prefix=${HOME}/RESPONSE2022/ncurses-6.3/bin &> /dev/null\n",
    "make &> /dev/null\n",
    "make install &> /dev/null\n",
    "echo \"export PATH=\\$PATH::${HOME}/RESPONSE2022/ncurses-6.3/bin/bin\" >> ${HOME}/.bashrc\n",
    "echo \"export LD_LIBRARY_PATH=\\$LD_LIBRARY_PATH:${HOME}/RESPONSE2022/ncurses-6.3/bin/lib\" >> ${HOME}/.bashrc\n",
    "echo \"export LIBRARY_PATH=\\$LIBRARY_PATH:${HOME}/RESPONSE20222/ncurses-6.3/bin/lib\" >> ${HOME}/.bashrc\n",
    "echo \"export CPATH=\\$CPATH:${HOME}/RESPONSE2022/ncurses-6.3/bin/include/\" >> ${HOME}/.bashrc\n",
    "echo \"Done.\""
   ]
  },
  {
   "cell_type": "code",
   "execution_count": 17,
   "metadata": {},
   "outputs": [
    {
     "name": "stdout",
     "output_type": "stream",
     "text": [
      "Installing samtools (dependency of BRAKER, also required for genome assembly)...\n",
      "/home/jovyan/anaconda3/bin/samtools\n"
     ]
    }
   ],
   "source": [
    "%%script bash\n",
    "# ~40 seconds\n",
    "echo \"Installing samtools (dependency of BRAKER, also required for genome assembly)...\"\n",
    "source ${HOME}/.bashrc\n",
    "git clone https://github.com/samtools/samtools.git &> /dev/null\n",
    "cd samtools\n",
    "autoreconf -i &> /dev/null\n",
    "./configure --prefix=${HOME}/RESPONSE2022/samtools/bin &> /dev/null\n",
    "make &> /dev/null\n",
    "make install &> /dev/null\n",
    "echo \"export PATH=\\$PATH:${HOME}/RESPONSE2022/samtools/bin/bin\" >> ${HOME}/.bashrc\n",
    "source ${HOME}/.bashrc\n",
    "which samtools"
   ]
  },
  {
   "cell_type": "code",
   "execution_count": 18,
   "metadata": {},
   "outputs": [
    {
     "name": "stdout",
     "output_type": "stream",
     "text": [
      "Installing DIAMOND (dependency of BRAKER, also required for genome assembly)...\n",
      "/home/jovyan/RESPONSE/diamond/diamond\n"
     ]
    }
   ],
   "source": [
    "%%script bash\n",
    "# ~1 second\n",
    "echo \"Installing DIAMOND (dependency of BRAKER, also required for genome assembly)...\"\n",
    "source ${HOME}/.bashrc\n",
    "mkdir diamond\n",
    "cd diamond\n",
    "wget http://github.com/bbuchfink/diamond/releases/download/v2.0.15/diamond-linux64.tar.gz &> /dev/null\n",
    "tar -xf diamond-linux64.tar.gz\n",
    "rm diamond-linux64.tar.gz\n",
    "echo \"export PATH=\\$PATH:${HOME}/RESPONSE2022/diamond\" >> ${HOME}/.bashrc\n",
    "source ${HOME}/.bashrc\n",
    "which diamond"
   ]
  },
  {
   "cell_type": "code",
   "execution_count": 19,
   "metadata": {},
   "outputs": [
    {
     "name": "stdout",
     "output_type": "stream",
     "text": [
      "Installing Boost (dependency of AUGUSTUS, we need this exact version for the precompiled binaries, shared objects...)\n",
      "Done.\n"
     ]
    }
   ],
   "source": [
    "%%script bash\n",
    "echo \"Installing Boost (dependency of AUGUSTUS, we need this exact version for the precompiled binaries, shared objects...)\"\n",
    "source ${HOME}/.bashrc\n",
    "wget https://boostorg.jfrog.io/artifactory/main/release/1.75.0/source/boost_1_75_0.tar.gz &> /dev/null\n",
    "tar -xf boost_1_75_0.tar.gz\n",
    "rm boost_1_75_0.tar.gz\n",
    "cd boost_1_75_0\n",
    "./bootstrap.sh --prefix=${HOME}/RESPONSE2022/boost_1_75_0/bin &> /dev/null\n",
    "./b2 headers &> /dev/null\n",
    "./b2 &> /dev/null\n",
    "./b2 --with-serialization\n",
    "echo \"export BOOST_INCLUDEDIR=${HOME}/RESPONSE2022/boost_1_75_0/boost\" >> ~/.bashrc\n",
    "echo \"export LD_LIBRARY_PATH=\\$LD_LIBRARY_PATH:${HOME}/RESPONSE2022/boost_1_75_0/stage/lib\" >> ${HOME}/.bashrc\n",
    "echo \"Done.\""
   ]
  },
  {
   "cell_type": "code",
   "execution_count": 20,
   "metadata": {},
   "outputs": [
    {
     "name": "stdout",
     "output_type": "stream",
     "text": [
      "Installing bamtools (dependency of bam2hints...)\n",
      "/home/jovyan/RESPONSE/bamtools/build/bin/bamtools\n"
     ]
    }
   ],
   "source": [
    "%%script bash\n",
    "echo \"Installing bamtools (dependency of bam2hints...)\"\n",
    "source ${HOME}/.bashrc\n",
    "git clone https://github.com/pezmaster31/bamtools.git &> /dev/null\n",
    "mkdir build\n",
    "cmake &> /dev/null\n",
    "make &> /dev/null\n",
    "make install &> /dev/null\n",
    "echo \"export PATH=${PATH}:\\$HOME/RESPONSE2022/bamtools/build/bin\" >> ${HOME}/.bashrc\n",
    "echo \"export LD_LIBRARY_PATH=\\$LD_LIBRARY_PATH:${HOME}/RESPONSE2022/bamtools/build/lib\" >> ${HOME}/.bashrc\n",
    "echo \"export LIBRARY_PATH=\\$LIBRARY_PATH:${HOME}/RESPONSE2022/bamtools/build/lib\" >> ${HOME}/.bashrc\n",
    "echo \"export CPATH=\\$CPATH:${HOME}/RESPONSE2022/bamtools/build/include/\" >> ${HOME}/.bashrc\n",
    "source ${HOME}/.bashrc\n",
    "which bamtools"
   ]
  },
  {
   "cell_type": "code",
   "execution_count": 21,
   "metadata": {},
   "outputs": [
    {
     "name": "stdout",
     "output_type": "stream",
     "text": [
      "Installing AUGUSTUS (dependency of BRAKER, this is a mess)...\n",
      "Downloading pre-compiled augustus binaries (because compiling is too painful)...\n",
      "Compiling bam2hints (because pre-compiled binaries do not work)...\n",
      "./augustus\n",
      "./etraining\n",
      "./bam2hints\n",
      "./joingenes\n",
      "/home/jovyan/RESPONSE/Augustus/scripts/optimize_augustus.pl\n"
     ]
    }
   ],
   "source": [
    "%%script bash\n",
    "echo \"Installing AUGUSTUS (dependency of BRAKER, this is a mess)...\"\n",
    "source ${HOME}/.bashrc\n",
    "git clone https://github.com/Gaius-Augustus/Augustus.git &> /dev/null # yes, we need this despite binary download\n",
    "cd Augustus/bin\n",
    "echo \"Downloading pre-compiled augustus binaries (because compiling is too painful)...\"\n",
    "wget https://bioinf.uni-greifswald.de/bioinf/katharina/RESPONSE/augustus &> /dev/null\n",
    "wget https://bioinf.uni-greifswald.de/bioinf/katharina/RESPONSE/etraining &> /dev/null\n",
    "wget https://bioinf.uni-greifswald.de/bioinf/katharina/RESPONSE/joingenes &> /dev/null\n",
    "chmod u+x *\n",
    "cd ..\n",
    "echo \"Compiling bam2hints (because pre-compiled binaries do not work)...\"\n",
    "# modifying common.mk for auxprogs compilation\n",
    "cat common.mk > common.tmp\n",
    "echo \"INCLUDE_PATH_ZLIB := -I/home/jovyan/RESPONSE2022/zlib-1.2.12/build/include\" >> common.tmp\n",
    "echo \"LIBRARY_PATH_ZLIB := -L/home/jovyan/RESPONSE2022/zlib-1.2.12/build/lib -Wl,-rpath,/home/jovyan/RESPONSE2022/zlib-1.2.12/build/lib\" >> common.tmp\n",
    "echo \"INCLUDE_PATH_BAMTOOLS := -I/home/jovyan/RESPONSE2022/bamtools/build/include/bamtools\" >> common.tmp\n",
    "echo \"LIBRARY_PATH_BAMTOOLS := -L/home/jovyan/RESPONSE2022/bamtools/build/lib -Wl,-rpath,/home/jovyan/RESPONSE/bamtools/build/lib\" >> common.tmp\n",
    "mv common.tmp common.mk\n",
    "make auxprogs &> /dev/null # don't care if things after bam2hints fail to compile, only bam2hints matters\n",
    "echo \"export PATH=\\$PATH:${HOME}/RESPONSE2022/Augustus/bin:${HOME}/RESPONSE2022/Augustus/scripts\" >> ${HOME}/.bashrc\n",
    "echo \"export AUGUSTUS_CONFIG_PATH=${HOME}/RESPONSE2022/Augustus/config\" >> ${HOME}/.bashrc\n",
    "source ${HOME}/.bashrc\n",
    "which augustus\n",
    "which etraining\n",
    "which bam2hints\n",
    "which joingenes\n",
    "which optimize_augustus.pl"
   ]
  },
  {
   "cell_type": "code",
   "execution_count": 22,
   "metadata": {},
   "outputs": [
    {
     "name": "stdout",
     "output_type": "stream",
     "text": [
      "Installing NCBI-BLAST (dependency of BRAKER, we could probably do with the system installed blast that is in DataScience Notebook, didn't try that though)...\n",
      "/usr/bin/blastp\n"
     ]
    }
   ],
   "source": [
    "%%script bash\n",
    "echo \"Installing NCBI-BLAST (dependency of BRAKER, we could probably do with the system installed blast that is in DataScience Notebook, didn't try that though)...\"\n",
    "wget https://ftp.ncbi.nlm.nih.gov/blast/executables/blast+/LATEST/ncbi-blast-2.13.0+-x64-linux.tar.gz &> /dev/null\n",
    "tar -zxf ncbi-blast-2.13.0+-x64-linux.tar.gz &> /dev/null\n",
    "rm ncbi-blast-2.13.0+-x64-linux.tar.gz\n",
    "echo \"export PATH=${HOME}/RESPONSE2022/ncbi-blast-2.13.0+/bin:\\$PATH\" >> ${HOME}/.bashrc\n",
    "which blastp # representative for the other binaries"
   ]
  },
  {
   "cell_type": "code",
   "execution_count": 62,
   "metadata": {},
   "outputs": [
    {
     "name": "stdout",
     "output_type": "stream",
     "text": [
      "Installing Perl (dependencies of BRAKER)...\n",
      "Done.\n"
     ]
    }
   ],
   "source": [
    "%%script bash\n",
    "echo \"Installing Perl (dependencies of BRAKER)...\"\n",
    "source ${HOME}/.bashrc\n",
    "conda install -y -c anaconda perl\n",
    "conda install -y -c bioconda perl-app-cpanminus\n",
    "conda install -y -c bioconda perl-hash-merge\n",
    "conda install -y -c bioconda perl-parallel-forkmanager\n",
    "conda install -y -c bioconda perl-scalar-util-numeric\n",
    "conda install -y -c bioconda perl-yaml\n",
    "conda install -y -c bioconda perl-class-data-inheritable\n",
    "conda install -y -c bioconda perl-exception-class\n",
    "conda install -y -c bioconda perl-test-pod\n",
    "conda install -y -c anaconda biopython\n",
    "conda install -y -c bioconda perl-file-which\n",
    "conda install -y -c bioconda perl-mce\n",
    "conda install -y -c bioconda perl-threaded\n",
    "conda install -y -c bioconda perl-list-util\n",
    "conda install -y -c bioconda perl-math-utils\n",
    "echo \"Done.\""
   ]
  },
  {
   "cell_type": "markdown",
   "metadata": {},
   "source": [
    "## Install GeneMark & ProtHint\n",
    "\n",
    "This cannot be compiled into an image because it has a license that every individual has to sign, and the license expires after 200 days. Every student will have to install their own GeneMark in the following way:\n",
    "\n",
    "   * Go to http://exon.gatech.edu/GeneMark/license_download.cgi\n",
    "   * Select GeneMark-ES/ET/EP ver 4.69_lic LINUX 64 kernel 2.6 - 3\n",
    "   * Fill in Name, Institution = \"University of Greifswald\", Country\n",
    "   * Click on agree to the license agreement\n",
    "\n",
    "On the next website, click on \"here\" to download **gmes_linux_64.tar.gz**, and click on \"64_bit\" to download a file **gm_key_64.gz**.\n",
    "\n",
    "In the AppHub, upload both files into your home directory."
   ]
  },
  {
   "cell_type": "markdown",
   "metadata": {},
   "source": [
    "### Not for image\n",
    "\n",
    "This code is not for building an image, it's for students, later. I only have it here to test whether everything is running or whether dependencies are still missing.\n",
    "\n",
    "```\n",
    "cd ${HOME}\n",
    "source .bashrc\n",
    "gunzip gmes_linux_64.tar.gz\n",
    "tar -xf gmes_linux_64.tar\n",
    "export PATH=${PATH}:${HOME}/gmes_linux_64\n",
    "echo \"export PATH=$PATH\" >> ${HOME}/.bashrc\n",
    "cd gmes_linux_64\n",
    "change_path_in_perl_scripts.pl \"/home/jovyan/anaconda3/bin/perl\" &> /dev/null\n",
    "gunzip gm_key_64.gz\n",
    "mv gm_key_64 ${HOME}/.gm_key\n",
    "which gmes_petap.pl\n",
    "cd ${HOME}\n",
    "git clone https://github.com/gatech-genemark/ProtHint.git &> /dev/null\n",
    "cp -r ${HOME}/gmes_linux_64_4/* ProtHint/dependencies/GeneMarkES\n",
    "export PATH=${PATH}:${HOME}/ProtHint/bin\n",
    "echo \"export PATH=$PATH\" >> ${HOME}/.bashrc\n",
    "which prothint.py # representative for the other scripts\n",
    "```"
   ]
  },
  {
   "cell_type": "code",
   "execution_count": 23,
   "metadata": {},
   "outputs": [
    {
     "name": "stdout",
     "output_type": "stream",
     "text": [
      "Installing BRAKER...\n",
      "/home/jovyan/RESPONSE/BRAKER/scripts/braker.pl\n"
     ]
    }
   ],
   "source": [
    "%%script bash\n",
    "echo \"Installing BRAKER...\"\n",
    "source ${HOME}/.bashrc\n",
    "git clone https://github.com/Gaius-Augustus/BRAKER.git &> /dev/null\n",
    "cd BRAKER/example\n",
    "wget http://bioinf.uni-greifswald.de/augustus/datasets/RNAseq.bam &> /dev/null # file needed for running tests\n",
    "echo \"export PATH=\\$PATH:${HOME}/RESPONSE2022/BRAKER/scripts\" >> ${HOME}/.bashrc\n",
    "source ${HOME}/.bashrc\n",
    "which braker.pl\n",
    "# if genemark & prothint are present:\n",
    "# ${HOME}/RESPONSE2022/BRAKER/example/tests/test1.sh # should run a while... adding --skipOptimize reduces runtime\n",
    "# ${HOME}/RESPONSE2022/BRAKER/example/tests/test2.sh # should run a while... adding --skipOptimize reduces runtime\n",
    "# both tests worked fine with all the dependencies from my environment"
   ]
  },
  {
   "cell_type": "code",
   "execution_count": 24,
   "metadata": {},
   "outputs": [
    {
     "name": "stdout",
     "output_type": "stream",
     "text": [
      "Installing TSEBRA...\n",
      "/home/jovyan/RESPONSE/TSEBRA/bin/tsebra.py\n"
     ]
    }
   ],
   "source": [
    "%%script bash\n",
    "echo \"Installing TSEBRA...\"\n",
    "source ${HOME}/.bashrc\n",
    "git clone https://github.com/Gaius-Augustus/TSEBRA &> /dev/null\n",
    "echo \"export PATH=\\$PATH:${HOME}/RESPONSE2022/TSEBRA/bin\" >> ${HOME}/.bashrc\n",
    "source ${HOME}/.bashrc\n",
    "which tsebra.py"
   ]
  },
  {
   "cell_type": "code",
   "execution_count": 26,
   "metadata": {},
   "outputs": [
    {
     "name": "stdout",
     "output_type": "stream",
     "text": [
      "Installing MakeHub...\n",
      "./make_hub.py\n"
     ]
    }
   ],
   "source": [
    "%%script bash \n",
    "echo \"Installing MakeHub...\"\n",
    "source ${HOME}/.bashrc\n",
    "git clone https://github.com/Gaius-Augustus/MakeHub.git &> /dev/null\n",
    "cd MakeHub\n",
    "wget http://hgdownload.soe.ucsc.edu/admin/exe/linux.x86_64.v369/bedToBigBed &> /dev/null\n",
    "wget http://hgdownload.soe.ucsc.edu/admin/exe/linux.x86_64.v369/genePredCheck &> /dev/null\n",
    "wget http://hgdownload.soe.ucsc.edu/admin/exe/linux.x86_64.v369/faToTwoBit &> /dev/null\n",
    "wget http://hgdownload.soe.ucsc.edu/admin/exe/linux.x86_64.v369/gtfToGenePred &> /dev/null\n",
    "wget http://hgdownload.soe.ucsc.edu/admin/exe/linux.x86_64.v369/hgGcPercent &> /dev/null\n",
    "wget http://hgdownload.soe.ucsc.edu/admin/exe/linux.x86_64.v369/ixIxx &> /dev/null\n",
    "wget http://hgdownload.soe.ucsc.edu/admin/exe/linux.x86_64.v369/twoBitInfo &> /dev/null\n",
    "wget http://hgdownload.soe.ucsc.edu/admin/exe/linux.x86_64.v369/wigToBigWig &> /dev/null\n",
    "wget http://hgdownload.soe.ucsc.edu/admin/exe/linux.x86_64.v369/genePredToBed &> /dev/null\n",
    "wget http://hgdownload.soe.ucsc.edu/admin/exe/linux.x86_64.v369/genePredToBigGenePred &> /dev/null\n",
    "chmod u+x bedToBigBed genePredCheck faToTwoBit gtfToGenePred hgGcPercent ixIxx  twoBitInfo wigToBigWig genePredToBed genePredToBigGenePred make_hub.py\n",
    "echo \"export PATH=\\$PATH:${HOME}/RESPONSE2022/MakeHub\" >> ${HOME}/.bashrc\n",
    "which make_hub.py"
   ]
  },
  {
   "cell_type": "markdown",
   "metadata": {},
   "source": [
    "## Data preparation Blobtools\n",
    "\n",
    "Do **not** attempt to do this in a user instance of the AppHub! The data is way larger than your maximum home directory size. The database has been prepared at alphafold_data for you.\n",
    "\n",
    "#### Download NCBI taxdump and create nodesdb"
   ]
  },
  {
   "cell_type": "code",
   "execution_count": null,
   "metadata": {},
   "outputs": [],
   "source": [
    "%%script bash\n",
    "source ${HOME}/.bashrc\n",
    "wget ftp://ftp.ncbi.nlm.nih.gov/pub/taxonomy/taxdump.tar.gz -P taxonomy/ &> /dev/null\n",
    "tar zxf taxonomy/taxdump.tar.gz -C blobtools_db/taxonomy/ nodes.dmp names.dmp\n",
    "blobtools nodesdb --nodes blobtools_db/taxonomy/nodes.dmp --names blobtools_db/taxonomy/names.dmp"
   ]
  },
  {
   "cell_type": "markdown",
   "metadata": {},
   "source": [
    "#### Download and extract UniProt reference proteomes"
   ]
  },
  {
   "cell_type": "code",
   "execution_count": null,
   "metadata": {},
   "outputs": [],
   "source": [
    "%%script bash\n",
    "source ${HOME}/.bashrc\n",
    "UNIPROT=./blobtools_db/uniprot_2022_07_27\n",
    "TAXDUMP=./blobtools_db/taxonomy\n",
    "mkdir -p $UNIPROT\n",
    "wget -q -O $UNIPROT/reference_proteomes.tar.gz \\\n",
    " ftp.ebi.ac.uk/pub/databases/uniprot/current_release/knowledgebase/reference_proteomes/$(curl \\\n",
    "     -vs ftp.ebi.ac.uk/pub/databases/uniprot/current_release/knowledgebase/reference_proteomes/ 2>&1 | \\\n",
    "     awk '/tar.gz/ {print $9}')\n",
    "cd $UNIPROT\n",
    "tar xf reference_proteomes.tar.gz\n",
    "\n",
    "touch reference_proteomes.fasta.gz\n",
    "find . -mindepth 2 | grep \"fasta.gz\" | grep -v 'DNA' | grep -v 'additional' | xargs cat >> reference_proteomes.fasta.gz\n",
    "\n",
    "printf \"accession\\taccession.version\\ttaxid\\tgi\\n\" > reference_proteomes.taxid_map\n",
    "zcat */*/*.idmapping.gz | grep \"NCBI_TaxID\" | awk '{print $1 \"\\t\" $1 \"\\t\" $3 \"\\t\" 0}' >> reference_proteomes.taxid_map\n",
    "\n",
    "diamond makedb -p 16 --in ${UNIPROT}/reference_proteomes.fasta.gz --taxonmap ${UNIPROT}/reference_proteomes.taxid_map --taxonnodes $TAXDUMP/nodes.dmp --taxonnames $TAXDUMP/names.dmp -d ${UNIPROT}/reference_proteomes.dmnd\n",
    "cd -"
   ]
  },
  {
   "cell_type": "markdown",
   "metadata": {},
   "source": [
    "## Data preparation BRAKER2\n",
    "\n",
    "Do **not** attempt to do this in a user instance of the AppHub! The data is way larger than your maximum home directory size. The database has been prepared at alphafold_data for you."
   ]
  },
  {
   "cell_type": "code",
   "execution_count": null,
   "metadata": {},
   "outputs": [],
   "source": []
  }
 ],
 "metadata": {
  "kernelspec": {
   "display_name": "Python 3 (ipykernel)",
   "language": "python",
   "name": "python3"
  },
  "language_info": {
   "codemirror_mode": {
    "name": "ipython",
    "version": 3
   },
   "file_extension": ".py",
   "mimetype": "text/x-python",
   "name": "python",
   "nbconvert_exporter": "python",
   "pygments_lexer": "ipython3",
   "version": "3.10.6"
  }
 },
 "nbformat": 4,
 "nbformat_minor": 4
}
